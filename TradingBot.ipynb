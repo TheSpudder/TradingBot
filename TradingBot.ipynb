{
 "cells": [
  {
   "cell_type": "code",
   "execution_count": 2,
   "id": "9ea1dbde",
   "metadata": {},
   "outputs": [],
   "source": [
    "import time\n",
    "from binance.client import Client\n",
    "\n",
    "API_Key = 'R1ra62yTfud3SXjqjWCcjg64DYsNrcgRrouehw7KPkY5hiY34pVYW7ryQchEyTj2'\n",
    "\n",
    "Secret_Key = 'h70WOjCbghjOM8Uex8WbMITzWea255J3GTcWX8xCGt6CyFptqr1QZ0KB5843Ke4m'"
   ]
  },
  {
   "cell_type": "code",
   "execution_count": 4,
   "id": "69cac210",
   "metadata": {},
   "outputs": [
    {
     "ename": "BinanceAPIException",
     "evalue": "APIError(code=-1021): Timestamp for this request was 1000ms ahead of the server's time.",
     "output_type": "error",
     "traceback": [
      "\u001b[31m---------------------------------------------------------------------------\u001b[39m",
      "\u001b[31mBinanceAPIException\u001b[39m                       Traceback (most recent call last)",
      "\u001b[36mCell\u001b[39m\u001b[36m \u001b[39m\u001b[32mIn[4]\u001b[39m\u001b[32m, line 2\u001b[39m\n\u001b[32m      1\u001b[39m client = Client(API_Key, Secret_Key, testnet=\u001b[38;5;28;01mTrue\u001b[39;00m)\n\u001b[32m----> \u001b[39m\u001b[32m2\u001b[39m \u001b[43mclient\u001b[49m\u001b[43m.\u001b[49m\u001b[43mget_account\u001b[49m\u001b[43m(\u001b[49m\u001b[43m)\u001b[49m\n",
      "\u001b[36mFile \u001b[39m\u001b[32mc:\\Users\\nickt\\OneDrive\\Desktop\\TradingBot\\venv\\Lib\\site-packages\\binance\\client.py:2166\u001b[39m, in \u001b[36mClient.get_account\u001b[39m\u001b[34m(self, **params)\u001b[39m\n\u001b[32m   2129\u001b[39m \u001b[38;5;28;01mdef\u001b[39;00m\u001b[38;5;250m \u001b[39m\u001b[34mget_account\u001b[39m(\u001b[38;5;28mself\u001b[39m, **params):\n\u001b[32m   2130\u001b[39m \u001b[38;5;250m    \u001b[39m\u001b[33;03m\"\"\"Get current account information.\u001b[39;00m\n\u001b[32m   2131\u001b[39m \n\u001b[32m   2132\u001b[39m \u001b[33;03m    https://binance-docs.github.io/apidocs/spot/en/#account-information-user_data\u001b[39;00m\n\u001b[32m   (...)\u001b[39m\u001b[32m   2164\u001b[39m \n\u001b[32m   2165\u001b[39m \u001b[33;03m    \"\"\"\u001b[39;00m\n\u001b[32m-> \u001b[39m\u001b[32m2166\u001b[39m     \u001b[38;5;28;01mreturn\u001b[39;00m \u001b[38;5;28;43mself\u001b[39;49m\u001b[43m.\u001b[49m\u001b[43m_get\u001b[49m\u001b[43m(\u001b[49m\u001b[33;43m\"\u001b[39;49m\u001b[33;43maccount\u001b[39;49m\u001b[33;43m\"\u001b[39;49m\u001b[43m,\u001b[49m\u001b[43m \u001b[49m\u001b[38;5;28;43;01mTrue\u001b[39;49;00m\u001b[43m,\u001b[49m\u001b[43m \u001b[49m\u001b[43mdata\u001b[49m\u001b[43m=\u001b[49m\u001b[43mparams\u001b[49m\u001b[43m)\u001b[49m\n",
      "\u001b[36mFile \u001b[39m\u001b[32mc:\\Users\\nickt\\OneDrive\\Desktop\\TradingBot\\venv\\Lib\\site-packages\\binance\\client.py:180\u001b[39m, in \u001b[36mClient._get\u001b[39m\u001b[34m(self, path, signed, version, **kwargs)\u001b[39m\n\u001b[32m    179\u001b[39m \u001b[38;5;28;01mdef\u001b[39;00m\u001b[38;5;250m \u001b[39m\u001b[34m_get\u001b[39m(\u001b[38;5;28mself\u001b[39m, path, signed=\u001b[38;5;28;01mFalse\u001b[39;00m, version=BaseClient.PUBLIC_API_VERSION, **kwargs):\n\u001b[32m--> \u001b[39m\u001b[32m180\u001b[39m     \u001b[38;5;28;01mreturn\u001b[39;00m \u001b[38;5;28;43mself\u001b[39;49m\u001b[43m.\u001b[49m\u001b[43m_request_api\u001b[49m\u001b[43m(\u001b[49m\u001b[33;43m\"\u001b[39;49m\u001b[33;43mget\u001b[39;49m\u001b[33;43m\"\u001b[39;49m\u001b[43m,\u001b[49m\u001b[43m \u001b[49m\u001b[43mpath\u001b[49m\u001b[43m,\u001b[49m\u001b[43m \u001b[49m\u001b[43msigned\u001b[49m\u001b[43m,\u001b[49m\u001b[43m \u001b[49m\u001b[43mversion\u001b[49m\u001b[43m,\u001b[49m\u001b[43m \u001b[49m\u001b[43m*\u001b[49m\u001b[43m*\u001b[49m\u001b[43mkwargs\u001b[49m\u001b[43m)\u001b[49m\n",
      "\u001b[36mFile \u001b[39m\u001b[32mc:\\Users\\nickt\\OneDrive\\Desktop\\TradingBot\\venv\\Lib\\site-packages\\binance\\client.py:117\u001b[39m, in \u001b[36mClient._request_api\u001b[39m\u001b[34m(self, method, path, signed, version, **kwargs)\u001b[39m\n\u001b[32m    108\u001b[39m \u001b[38;5;28;01mdef\u001b[39;00m\u001b[38;5;250m \u001b[39m\u001b[34m_request_api\u001b[39m(\n\u001b[32m    109\u001b[39m     \u001b[38;5;28mself\u001b[39m,\n\u001b[32m    110\u001b[39m     method,\n\u001b[32m   (...)\u001b[39m\u001b[32m    114\u001b[39m     **kwargs,\n\u001b[32m    115\u001b[39m ):\n\u001b[32m    116\u001b[39m     uri = \u001b[38;5;28mself\u001b[39m._create_api_uri(path, signed, version)\n\u001b[32m--> \u001b[39m\u001b[32m117\u001b[39m     \u001b[38;5;28;01mreturn\u001b[39;00m \u001b[38;5;28;43mself\u001b[39;49m\u001b[43m.\u001b[49m\u001b[43m_request\u001b[49m\u001b[43m(\u001b[49m\u001b[43mmethod\u001b[49m\u001b[43m,\u001b[49m\u001b[43m \u001b[49m\u001b[43muri\u001b[49m\u001b[43m,\u001b[49m\u001b[43m \u001b[49m\u001b[43msigned\u001b[49m\u001b[43m,\u001b[49m\u001b[43m \u001b[49m\u001b[43m*\u001b[49m\u001b[43m*\u001b[49m\u001b[43mkwargs\u001b[49m\u001b[43m)\u001b[49m\n",
      "\u001b[36mFile \u001b[39m\u001b[32mc:\\Users\\nickt\\OneDrive\\Desktop\\TradingBot\\venv\\Lib\\site-packages\\binance\\client.py:89\u001b[39m, in \u001b[36mClient._request\u001b[39m\u001b[34m(self, method, uri, signed, force_params, **kwargs)\u001b[39m\n\u001b[32m     86\u001b[39m     data = \u001b[33mf\u001b[39m\u001b[33m\"\u001b[39m\u001b[38;5;132;01m{\u001b[39;00murl_encoded_data\u001b[38;5;132;01m}\u001b[39;00m\u001b[33m&signature=\u001b[39m\u001b[38;5;132;01m{\u001b[39;00msignature\u001b[38;5;132;01m}\u001b[39;00m\u001b[33m\"\u001b[39m\n\u001b[32m     88\u001b[39m \u001b[38;5;28mself\u001b[39m.response = \u001b[38;5;28mgetattr\u001b[39m(\u001b[38;5;28mself\u001b[39m.session, method)(uri, headers=headers, data=data, **kwargs)\n\u001b[32m---> \u001b[39m\u001b[32m89\u001b[39m \u001b[38;5;28;01mreturn\u001b[39;00m \u001b[38;5;28;43mself\u001b[39;49m\u001b[43m.\u001b[49m\u001b[43m_handle_response\u001b[49m\u001b[43m(\u001b[49m\u001b[38;5;28;43mself\u001b[39;49m\u001b[43m.\u001b[49m\u001b[43mresponse\u001b[49m\u001b[43m)\u001b[49m\n",
      "\u001b[36mFile \u001b[39m\u001b[32mc:\\Users\\nickt\\OneDrive\\Desktop\\TradingBot\\venv\\Lib\\site-packages\\binance\\client.py:98\u001b[39m, in \u001b[36mClient._handle_response\u001b[39m\u001b[34m(response)\u001b[39m\n\u001b[32m     93\u001b[39m \u001b[38;5;250m\u001b[39m\u001b[33;03m\"\"\"Internal helper for handling API responses from the Binance server.\u001b[39;00m\n\u001b[32m     94\u001b[39m \u001b[33;03mRaises the appropriate exceptions when necessary; otherwise, returns the\u001b[39;00m\n\u001b[32m     95\u001b[39m \u001b[33;03mresponse.\u001b[39;00m\n\u001b[32m     96\u001b[39m \u001b[33;03m\"\"\"\u001b[39;00m\n\u001b[32m     97\u001b[39m \u001b[38;5;28;01mif\u001b[39;00m \u001b[38;5;129;01mnot\u001b[39;00m (\u001b[32m200\u001b[39m <= response.status_code < \u001b[32m300\u001b[39m):\n\u001b[32m---> \u001b[39m\u001b[32m98\u001b[39m     \u001b[38;5;28;01mraise\u001b[39;00m BinanceAPIException(response, response.status_code, response.text)\n\u001b[32m    100\u001b[39m \u001b[38;5;28;01mif\u001b[39;00m response.text == \u001b[33m\"\u001b[39m\u001b[33m\"\u001b[39m:\n\u001b[32m    101\u001b[39m     \u001b[38;5;28;01mreturn\u001b[39;00m {}\n",
      "\u001b[31mBinanceAPIException\u001b[39m: APIError(code=-1021): Timestamp for this request was 1000ms ahead of the server's time."
     ]
    }
   ],
   "source": [
    "client = Client(API_Key, Secret_Key, testnet=True)\n",
    "client.get_account()\n"
   ]
  },
  {
   "cell_type": "code",
   "execution_count": null,
   "id": "164043d8",
   "metadata": {},
   "outputs": [
    {
     "name": "stdout",
     "output_type": "stream",
     "text": [
      "Buy order done: {'symbol': 'BTCUSDT', 'orderId': 6973071, 'orderListId': -1, 'clientOrderId': 'x-HNA2TXFJd52b986c4dda892c6444a8', 'transactTime': 1745543325636, 'price': '0.00000000', 'origQty': '0.00100000', 'executedQty': '0.00100000', 'origQuoteOrderQty': '0.00000000', 'cummulativeQuoteQty': '93.92050000', 'status': 'FILLED', 'timeInForce': 'GTC', 'type': 'MARKET', 'side': 'BUY', 'workingTime': 1745543325636, 'fills': [{'price': '93920.50000000', 'qty': '0.00100000', 'commission': '0.00000000', 'commissionAsset': 'BTC', 'tradeId': 1971881}], 'selfTradePreventionMode': 'EXPIRE_MAKER'}\n"
     ]
    }
   ],
   "source": [
    "symbol = 'BTCUSDT'\n",
    "buy_price_threshold = 60000\n",
    "sell_price_threshold = 68000\n",
    "trade_quantity = 0.001\n",
    "\n",
    "# Get current price of the symbol\n",
    "def get_current_price(symbol):\n",
    "    ticker = client.get_symbol_ticker(symbol=symbol)\n",
    "    return float(ticker['price'])\n",
    "\n",
    "# Call the function to get current price\n",
    "get_current_price(symbol)\n",
    "\n",
    "# Place a market buy order\n",
    "def place_buy_order(symbol, quantity):\n",
    "    order = client.order_market_buy(symbol=symbol, quantity=quantity)\n",
    "    print(f\"Buy order done: {order}\")\n",
    "\n",
    "# Call the function to place buy order\n",
    "place_buy_order(symbol, trade_quantity)"
   ]
  },
  {
   "cell_type": "code",
   "execution_count": null,
   "id": "f3b07bee",
   "metadata": {},
   "outputs": [
    {
     "name": "stdout",
     "output_type": "stream",
     "text": [
      "Sell order done: {'symbol': 'BTCUSDT', 'orderId': 6973128, 'orderListId': -1, 'clientOrderId': 'x-HNA2TXFJf88d74b8f323a0c1057907', 'transactTime': 1745543358211, 'price': '0.00000000', 'origQty': '0.00100000', 'executedQty': '0.00100000', 'origQuoteOrderQty': '0.00000000', 'cummulativeQuoteQty': '93.95619000', 'status': 'FILLED', 'timeInForce': 'GTC', 'type': 'MARKET', 'side': 'SELL', 'workingTime': 1745543358211, 'fills': [{'price': '93956.19000000', 'qty': '0.00100000', 'commission': '0.00000000', 'commissionAsset': 'USDT', 'tradeId': 1971929}], 'selfTradePreventionMode': 'EXPIRE_MAKER'}\n"
     ]
    }
   ],
   "source": [
    "def place_sell_order(symbol, quantity):\n",
    "    order = client.order_market_sell(symbol=symbol, quantity=quantity)\n",
    "    print(f\"Sell order done: {order}\")\n",
    "\n",
    "# Call the function to place sell order\n",
    "place_sell_order(symbol, trade_quantity)"
   ]
  },
  {
   "cell_type": "code",
   "execution_count": null,
   "id": "b450b7a4",
   "metadata": {},
   "outputs": [],
   "source": [
    "def trading_bot():\n",
    "    in_position = False\n",
    "\n",
    "    while True:\n",
    "        current_price = get_current_price(symbol)\n",
    "        print(f\"Current price of {symbol}: {current_price}\")\n",
    "\n",
    "        if not in_position:\n",
    "            if current_price < buy_price_threshold:\n",
    "                print(f\"Price is below {buy_price_threshold}. Placing buy order.\")\n",
    "                place_buy_order(symbol, trade_quantity)\n",
    "                in_position = True\n",
    "        else:\n",
    "            if current_price > sell_price_threshold:\n",
    "                print(f\"Price is above {sell_price_threshold}. Placing sell order.\")\n",
    "                place_sell_order(symbol, trade_quantity)\n",
    "                in_position = False\n",
    "\n",
    "        time.sleep(3)\n"
   ]
  },
  {
   "cell_type": "code",
   "execution_count": null,
   "id": "bf847086",
   "metadata": {},
   "outputs": [
    {
     "ename": "NameError",
     "evalue": "name 'trading_bot' is not defined",
     "output_type": "error",
     "traceback": [
      "\u001b[31m---------------------------------------------------------------------------\u001b[39m",
      "\u001b[31mNameError\u001b[39m                                 Traceback (most recent call last)",
      "\u001b[36mCell\u001b[39m\u001b[36m \u001b[39m\u001b[32mIn[1]\u001b[39m\u001b[32m, line 2\u001b[39m\n\u001b[32m      1\u001b[39m \u001b[38;5;28;01mif\u001b[39;00m \u001b[34m__name__\u001b[39m == \u001b[33m\"\u001b[39m\u001b[33m__main__\u001b[39m\u001b[33m\"\u001b[39m:\n\u001b[32m----> \u001b[39m\u001b[32m2\u001b[39m     \u001b[43mtrading_bot\u001b[49m()\n",
      "\u001b[31mNameError\u001b[39m: name 'trading_bot' is not defined"
     ]
    }
   ],
   "source": [
    "if __name__ == \"__main__\":\n",
    "    trading_bot()"
   ]
  }
 ],
 "metadata": {
  "kernelspec": {
   "display_name": "venv",
   "language": "python",
   "name": "python3"
  },
  "language_info": {
   "codemirror_mode": {
    "name": "ipython",
    "version": 3
   },
   "file_extension": ".py",
   "mimetype": "text/x-python",
   "name": "python",
   "nbconvert_exporter": "python",
   "pygments_lexer": "ipython3",
   "version": "3.13.3"
  }
 },
 "nbformat": 4,
 "nbformat_minor": 5
}
